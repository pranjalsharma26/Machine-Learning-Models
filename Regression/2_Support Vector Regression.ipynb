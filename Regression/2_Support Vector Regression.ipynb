{
 "cells": [
  {
   "cell_type": "markdown",
   "id": "9e8bf889",
   "metadata": {},
   "source": [
    "# Importing Libraries"
   ]
  },
  {
   "cell_type": "code",
   "execution_count": 225,
   "id": "59975bc9",
   "metadata": {},
   "outputs": [],
   "source": [
    "import numpy as np\n",
    "import pandas as pd"
   ]
  },
  {
   "cell_type": "markdown",
   "id": "800562e0",
   "metadata": {},
   "source": [
    "# Importing Dataset"
   ]
  },
  {
   "cell_type": "code",
   "execution_count": 226,
   "id": "76fe5b5a",
   "metadata": {},
   "outputs": [],
   "source": [
    "dataset = pd.read_csv('../Dataset/wineQualityReds_data.csv')\n",
    "# Removing the unnecessary column\n",
    "dataset.drop(['Unnamed: 0'], axis = 1, inplace = True)\n",
    "# seprating the dataset\n",
    "X = X = dataset.iloc[:, :-1].values\n",
    "y = dataset.iloc[:, -1:].values"
   ]
  },
  {
   "cell_type": "code",
   "execution_count": null,
   "id": "65ce5cf2",
   "metadata": {},
   "outputs": [],
   "source": []
  },
  {
   "cell_type": "markdown",
   "id": "03778ad2",
   "metadata": {},
   "source": [
    "Data Preview"
   ]
  },
  {
   "cell_type": "code",
   "execution_count": 227,
   "id": "09383690",
   "metadata": {},
   "outputs": [
    {
     "data": {
      "text/html": [
       "<div>\n",
       "<style scoped>\n",
       "    .dataframe tbody tr th:only-of-type {\n",
       "        vertical-align: middle;\n",
       "    }\n",
       "\n",
       "    .dataframe tbody tr th {\n",
       "        vertical-align: top;\n",
       "    }\n",
       "\n",
       "    .dataframe thead th {\n",
       "        text-align: right;\n",
       "    }\n",
       "</style>\n",
       "<table border=\"1\" class=\"dataframe\">\n",
       "  <thead>\n",
       "    <tr style=\"text-align: right;\">\n",
       "      <th></th>\n",
       "      <th>fixed.acidity</th>\n",
       "      <th>volatile.acidity</th>\n",
       "      <th>citric.acid</th>\n",
       "      <th>residual.sugar</th>\n",
       "      <th>chlorides</th>\n",
       "      <th>free.sulfur.dioxide</th>\n",
       "      <th>total.sulfur.dioxide</th>\n",
       "      <th>density</th>\n",
       "      <th>pH</th>\n",
       "      <th>sulphates</th>\n",
       "      <th>alcohol</th>\n",
       "      <th>quality</th>\n",
       "    </tr>\n",
       "  </thead>\n",
       "  <tbody>\n",
       "    <tr>\n",
       "      <th>0</th>\n",
       "      <td>7.4</td>\n",
       "      <td>0.70</td>\n",
       "      <td>0.00</td>\n",
       "      <td>1.9</td>\n",
       "      <td>0.076</td>\n",
       "      <td>11.0</td>\n",
       "      <td>34.0</td>\n",
       "      <td>0.9978</td>\n",
       "      <td>3.51</td>\n",
       "      <td>0.56</td>\n",
       "      <td>9.4</td>\n",
       "      <td>5</td>\n",
       "    </tr>\n",
       "    <tr>\n",
       "      <th>1</th>\n",
       "      <td>7.8</td>\n",
       "      <td>0.88</td>\n",
       "      <td>0.00</td>\n",
       "      <td>2.6</td>\n",
       "      <td>0.098</td>\n",
       "      <td>25.0</td>\n",
       "      <td>67.0</td>\n",
       "      <td>0.9968</td>\n",
       "      <td>3.20</td>\n",
       "      <td>0.68</td>\n",
       "      <td>9.8</td>\n",
       "      <td>5</td>\n",
       "    </tr>\n",
       "    <tr>\n",
       "      <th>2</th>\n",
       "      <td>7.8</td>\n",
       "      <td>0.76</td>\n",
       "      <td>0.04</td>\n",
       "      <td>2.3</td>\n",
       "      <td>0.092</td>\n",
       "      <td>15.0</td>\n",
       "      <td>54.0</td>\n",
       "      <td>0.9970</td>\n",
       "      <td>3.26</td>\n",
       "      <td>0.65</td>\n",
       "      <td>9.8</td>\n",
       "      <td>5</td>\n",
       "    </tr>\n",
       "    <tr>\n",
       "      <th>3</th>\n",
       "      <td>11.2</td>\n",
       "      <td>0.28</td>\n",
       "      <td>0.56</td>\n",
       "      <td>1.9</td>\n",
       "      <td>0.075</td>\n",
       "      <td>17.0</td>\n",
       "      <td>60.0</td>\n",
       "      <td>0.9980</td>\n",
       "      <td>3.16</td>\n",
       "      <td>0.58</td>\n",
       "      <td>9.8</td>\n",
       "      <td>6</td>\n",
       "    </tr>\n",
       "    <tr>\n",
       "      <th>4</th>\n",
       "      <td>7.4</td>\n",
       "      <td>0.70</td>\n",
       "      <td>0.00</td>\n",
       "      <td>1.9</td>\n",
       "      <td>0.076</td>\n",
       "      <td>11.0</td>\n",
       "      <td>34.0</td>\n",
       "      <td>0.9978</td>\n",
       "      <td>3.51</td>\n",
       "      <td>0.56</td>\n",
       "      <td>9.4</td>\n",
       "      <td>5</td>\n",
       "    </tr>\n",
       "  </tbody>\n",
       "</table>\n",
       "</div>"
      ],
      "text/plain": [
       "   fixed.acidity  volatile.acidity  citric.acid  residual.sugar  chlorides  \\\n",
       "0            7.4              0.70         0.00             1.9      0.076   \n",
       "1            7.8              0.88         0.00             2.6      0.098   \n",
       "2            7.8              0.76         0.04             2.3      0.092   \n",
       "3           11.2              0.28         0.56             1.9      0.075   \n",
       "4            7.4              0.70         0.00             1.9      0.076   \n",
       "\n",
       "   free.sulfur.dioxide  total.sulfur.dioxide  density    pH  sulphates  \\\n",
       "0                 11.0                  34.0   0.9978  3.51       0.56   \n",
       "1                 25.0                  67.0   0.9968  3.20       0.68   \n",
       "2                 15.0                  54.0   0.9970  3.26       0.65   \n",
       "3                 17.0                  60.0   0.9980  3.16       0.58   \n",
       "4                 11.0                  34.0   0.9978  3.51       0.56   \n",
       "\n",
       "   alcohol  quality  \n",
       "0      9.4        5  \n",
       "1      9.8        5  \n",
       "2      9.8        5  \n",
       "3      9.8        6  \n",
       "4      9.4        5  "
      ]
     },
     "execution_count": 227,
     "metadata": {},
     "output_type": "execute_result"
    }
   ],
   "source": [
    "dataset.head()"
   ]
  },
  {
   "cell_type": "code",
   "execution_count": 228,
   "id": "73f79543",
   "metadata": {},
   "outputs": [
    {
     "data": {
      "text/html": [
       "<div>\n",
       "<style scoped>\n",
       "    .dataframe tbody tr th:only-of-type {\n",
       "        vertical-align: middle;\n",
       "    }\n",
       "\n",
       "    .dataframe tbody tr th {\n",
       "        vertical-align: top;\n",
       "    }\n",
       "\n",
       "    .dataframe thead th {\n",
       "        text-align: right;\n",
       "    }\n",
       "</style>\n",
       "<table border=\"1\" class=\"dataframe\">\n",
       "  <thead>\n",
       "    <tr style=\"text-align: right;\">\n",
       "      <th></th>\n",
       "      <th>fixed.acidity</th>\n",
       "      <th>volatile.acidity</th>\n",
       "      <th>citric.acid</th>\n",
       "      <th>residual.sugar</th>\n",
       "      <th>chlorides</th>\n",
       "      <th>free.sulfur.dioxide</th>\n",
       "      <th>total.sulfur.dioxide</th>\n",
       "      <th>density</th>\n",
       "      <th>pH</th>\n",
       "      <th>sulphates</th>\n",
       "      <th>alcohol</th>\n",
       "      <th>quality</th>\n",
       "    </tr>\n",
       "  </thead>\n",
       "  <tbody>\n",
       "    <tr>\n",
       "      <th>count</th>\n",
       "      <td>1599.000000</td>\n",
       "      <td>1599.000000</td>\n",
       "      <td>1599.000000</td>\n",
       "      <td>1599.000000</td>\n",
       "      <td>1599.000000</td>\n",
       "      <td>1599.000000</td>\n",
       "      <td>1599.000000</td>\n",
       "      <td>1599.000000</td>\n",
       "      <td>1599.000000</td>\n",
       "      <td>1599.000000</td>\n",
       "      <td>1599.000000</td>\n",
       "      <td>1599.000000</td>\n",
       "    </tr>\n",
       "    <tr>\n",
       "      <th>mean</th>\n",
       "      <td>8.319637</td>\n",
       "      <td>0.527821</td>\n",
       "      <td>0.270976</td>\n",
       "      <td>2.538806</td>\n",
       "      <td>0.087467</td>\n",
       "      <td>15.874922</td>\n",
       "      <td>46.467792</td>\n",
       "      <td>0.996747</td>\n",
       "      <td>3.311113</td>\n",
       "      <td>0.658149</td>\n",
       "      <td>10.422983</td>\n",
       "      <td>5.636023</td>\n",
       "    </tr>\n",
       "    <tr>\n",
       "      <th>std</th>\n",
       "      <td>1.741096</td>\n",
       "      <td>0.179060</td>\n",
       "      <td>0.194801</td>\n",
       "      <td>1.409928</td>\n",
       "      <td>0.047065</td>\n",
       "      <td>10.460157</td>\n",
       "      <td>32.895324</td>\n",
       "      <td>0.001887</td>\n",
       "      <td>0.154386</td>\n",
       "      <td>0.169507</td>\n",
       "      <td>1.065668</td>\n",
       "      <td>0.807569</td>\n",
       "    </tr>\n",
       "    <tr>\n",
       "      <th>min</th>\n",
       "      <td>4.600000</td>\n",
       "      <td>0.120000</td>\n",
       "      <td>0.000000</td>\n",
       "      <td>0.900000</td>\n",
       "      <td>0.012000</td>\n",
       "      <td>1.000000</td>\n",
       "      <td>6.000000</td>\n",
       "      <td>0.990070</td>\n",
       "      <td>2.740000</td>\n",
       "      <td>0.330000</td>\n",
       "      <td>8.400000</td>\n",
       "      <td>3.000000</td>\n",
       "    </tr>\n",
       "    <tr>\n",
       "      <th>25%</th>\n",
       "      <td>7.100000</td>\n",
       "      <td>0.390000</td>\n",
       "      <td>0.090000</td>\n",
       "      <td>1.900000</td>\n",
       "      <td>0.070000</td>\n",
       "      <td>7.000000</td>\n",
       "      <td>22.000000</td>\n",
       "      <td>0.995600</td>\n",
       "      <td>3.210000</td>\n",
       "      <td>0.550000</td>\n",
       "      <td>9.500000</td>\n",
       "      <td>5.000000</td>\n",
       "    </tr>\n",
       "    <tr>\n",
       "      <th>50%</th>\n",
       "      <td>7.900000</td>\n",
       "      <td>0.520000</td>\n",
       "      <td>0.260000</td>\n",
       "      <td>2.200000</td>\n",
       "      <td>0.079000</td>\n",
       "      <td>14.000000</td>\n",
       "      <td>38.000000</td>\n",
       "      <td>0.996750</td>\n",
       "      <td>3.310000</td>\n",
       "      <td>0.620000</td>\n",
       "      <td>10.200000</td>\n",
       "      <td>6.000000</td>\n",
       "    </tr>\n",
       "    <tr>\n",
       "      <th>75%</th>\n",
       "      <td>9.200000</td>\n",
       "      <td>0.640000</td>\n",
       "      <td>0.420000</td>\n",
       "      <td>2.600000</td>\n",
       "      <td>0.090000</td>\n",
       "      <td>21.000000</td>\n",
       "      <td>62.000000</td>\n",
       "      <td>0.997835</td>\n",
       "      <td>3.400000</td>\n",
       "      <td>0.730000</td>\n",
       "      <td>11.100000</td>\n",
       "      <td>6.000000</td>\n",
       "    </tr>\n",
       "    <tr>\n",
       "      <th>max</th>\n",
       "      <td>15.900000</td>\n",
       "      <td>1.580000</td>\n",
       "      <td>1.000000</td>\n",
       "      <td>15.500000</td>\n",
       "      <td>0.611000</td>\n",
       "      <td>72.000000</td>\n",
       "      <td>289.000000</td>\n",
       "      <td>1.003690</td>\n",
       "      <td>4.010000</td>\n",
       "      <td>2.000000</td>\n",
       "      <td>14.900000</td>\n",
       "      <td>8.000000</td>\n",
       "    </tr>\n",
       "  </tbody>\n",
       "</table>\n",
       "</div>"
      ],
      "text/plain": [
       "       fixed.acidity  volatile.acidity  citric.acid  residual.sugar  \\\n",
       "count    1599.000000       1599.000000  1599.000000     1599.000000   \n",
       "mean        8.319637          0.527821     0.270976        2.538806   \n",
       "std         1.741096          0.179060     0.194801        1.409928   \n",
       "min         4.600000          0.120000     0.000000        0.900000   \n",
       "25%         7.100000          0.390000     0.090000        1.900000   \n",
       "50%         7.900000          0.520000     0.260000        2.200000   \n",
       "75%         9.200000          0.640000     0.420000        2.600000   \n",
       "max        15.900000          1.580000     1.000000       15.500000   \n",
       "\n",
       "         chlorides  free.sulfur.dioxide  total.sulfur.dioxide      density  \\\n",
       "count  1599.000000          1599.000000           1599.000000  1599.000000   \n",
       "mean      0.087467            15.874922             46.467792     0.996747   \n",
       "std       0.047065            10.460157             32.895324     0.001887   \n",
       "min       0.012000             1.000000              6.000000     0.990070   \n",
       "25%       0.070000             7.000000             22.000000     0.995600   \n",
       "50%       0.079000            14.000000             38.000000     0.996750   \n",
       "75%       0.090000            21.000000             62.000000     0.997835   \n",
       "max       0.611000            72.000000            289.000000     1.003690   \n",
       "\n",
       "                pH    sulphates      alcohol      quality  \n",
       "count  1599.000000  1599.000000  1599.000000  1599.000000  \n",
       "mean      3.311113     0.658149    10.422983     5.636023  \n",
       "std       0.154386     0.169507     1.065668     0.807569  \n",
       "min       2.740000     0.330000     8.400000     3.000000  \n",
       "25%       3.210000     0.550000     9.500000     5.000000  \n",
       "50%       3.310000     0.620000    10.200000     6.000000  \n",
       "75%       3.400000     0.730000    11.100000     6.000000  \n",
       "max       4.010000     2.000000    14.900000     8.000000  "
      ]
     },
     "execution_count": 228,
     "metadata": {},
     "output_type": "execute_result"
    }
   ],
   "source": [
    "dataset.describe()"
   ]
  },
  {
   "cell_type": "markdown",
   "id": "0f47b3e0",
   "metadata": {},
   "source": [
    "# Finding NULL values in dataset"
   ]
  },
  {
   "cell_type": "code",
   "execution_count": 229,
   "id": "e36afdae",
   "metadata": {},
   "outputs": [
    {
     "data": {
      "text/plain": [
       "False"
      ]
     },
     "execution_count": 229,
     "metadata": {},
     "output_type": "execute_result"
    }
   ],
   "source": [
    "dataset.isnull().values.any()\n",
    "# No NULL record found in data"
   ]
  },
  {
   "cell_type": "markdown",
   "id": "59042b91",
   "metadata": {},
   "source": [
    "# Splitting the dataset"
   ]
  },
  {
   "cell_type": "code",
   "execution_count": 230,
   "id": "6157d631",
   "metadata": {},
   "outputs": [],
   "source": [
    "from sklearn.model_selection import train_test_split\n",
    "X_train, X_test, y_train, y_test = train_test_split(X, y, test_size = 0.2, random_state = 0)\n",
    "# 80-20 split into train-test respectively"
   ]
  },
  {
   "cell_type": "code",
   "execution_count": 231,
   "id": "3d6f73f4",
   "metadata": {},
   "outputs": [
    {
     "data": {
      "text/plain": [
       "array([[ 9.9 ,  0.54,  0.45, ...,  3.39,  0.62,  9.4 ],\n",
       "       [10.8 ,  0.26,  0.45, ...,  3.13,  0.54,  9.6 ],\n",
       "       [ 9.9 ,  0.35,  0.55, ...,  3.26,  0.79, 10.6 ],\n",
       "       ...,\n",
       "       [ 7.9 ,  0.57,  0.31, ...,  3.29,  0.69,  9.5 ],\n",
       "       [13.  ,  0.47,  0.49, ...,  3.3 ,  0.68, 12.7 ],\n",
       "       [ 9.8 ,  0.98,  0.32, ...,  3.25,  0.48,  9.4 ]])"
      ]
     },
     "execution_count": 231,
     "metadata": {},
     "output_type": "execute_result"
    }
   ],
   "source": [
    "X_train"
   ]
  },
  {
   "cell_type": "code",
   "execution_count": 232,
   "id": "e0a2c7e5",
   "metadata": {},
   "outputs": [
    {
     "data": {
      "text/plain": [
       "array([[5],\n",
       "       [5],\n",
       "       [5],\n",
       "       ...,\n",
       "       [6],\n",
       "       [6],\n",
       "       [5]], dtype=int64)"
      ]
     },
     "execution_count": 232,
     "metadata": {},
     "output_type": "execute_result"
    }
   ],
   "source": [
    "y_train"
   ]
  },
  {
   "cell_type": "markdown",
   "id": "3dca94c9",
   "metadata": {},
   "source": [
    "# Feature Scaling"
   ]
  },
  {
   "cell_type": "code",
   "execution_count": 233,
   "id": "c7186918",
   "metadata": {},
   "outputs": [],
   "source": [
    "from sklearn.preprocessing import StandardScaler\n",
    "X_sc = StandardScaler()\n",
    "y_sc = StandardScaler()\n",
    "X_train = X_sc.fit_transform(X_train)\n",
    "y_train = y_sc.fit_transform(y_train)"
   ]
  },
  {
   "cell_type": "code",
   "execution_count": 234,
   "id": "94813de9",
   "metadata": {},
   "outputs": [
    {
     "data": {
      "text/plain": [
       "array([[-0.78933274],\n",
       "       [-0.78933274],\n",
       "       [-0.78933274],\n",
       "       ...,\n",
       "       [ 0.43141282],\n",
       "       [ 0.43141282],\n",
       "       [-0.78933274]])"
      ]
     },
     "execution_count": 234,
     "metadata": {},
     "output_type": "execute_result"
    }
   ],
   "source": [
    "y_train"
   ]
  },
  {
   "cell_type": "markdown",
   "id": "730c2afe",
   "metadata": {},
   "source": [
    "# Fitting into Model"
   ]
  },
  {
   "cell_type": "code",
   "execution_count": 235,
   "id": "e0c734aa",
   "metadata": {},
   "outputs": [
    {
     "name": "stderr",
     "output_type": "stream",
     "text": [
      "c:\\users\\pranjal\\appdata\\local\\programs\\python\\python37\\lib\\site-packages\\sklearn\\utils\\validation.py:985: DataConversionWarning: A column-vector y was passed when a 1d array was expected. Please change the shape of y to (n_samples, ), for example using ravel().\n",
      "  y = column_or_1d(y, warn=True)\n"
     ]
    },
    {
     "data": {
      "text/plain": [
       "SVR()"
      ]
     },
     "execution_count": 235,
     "metadata": {},
     "output_type": "execute_result"
    }
   ],
   "source": [
    "from sklearn.svm import SVR\n",
    "regrassor = SVR(kernel = 'rbf')\n",
    "regrassor.fit(X_train, y_train)"
   ]
  },
  {
   "cell_type": "markdown",
   "id": "0713d40c",
   "metadata": {},
   "source": [
    "# Prediction"
   ]
  },
  {
   "cell_type": "code",
   "execution_count": 236,
   "id": "8b4872a7",
   "metadata": {},
   "outputs": [
    {
     "ename": "ValueError",
     "evalue": "Expected 2D array, got 1D array instead:\narray=[-0.45171067 -0.50435534  1.72431945 -0.93218338  0.46786258 -0.58370757\n -0.67294184  0.33140658 -0.67516065 -0.72480452 -0.78451427 -0.23034499\n -0.04016597 -0.190164   -0.23531174  0.94750128  1.55199998 -0.29930531\n -0.15363902 -0.44034215  0.50143091 -0.47117466  0.08480602  0.17605571\n -0.30006733 -0.65437632 -0.55208142  1.47903157 -0.81878993  0.51078141\n  0.2943675   0.3277672   0.05480392 -0.26129547  0.53727206  0.40635578\n -0.44334948  0.09326547  0.63865417  0.33637553 -0.54245503  1.24365157\n  0.92469053  1.04034014  0.36300911 -0.77491376 -0.66464931  0.18438243\n -0.70470084  0.3771672  -0.98780784 -0.60344028  0.44499842  0.53142833\n -0.24509023 -0.49133587 -0.89410506 -0.59608725  1.33272293  0.03765856\n -0.76802522  0.31127073  0.54317498  0.21492838 -0.63100279  0.60196945\n -0.5857349  -0.69934607  0.82506001  0.51467718 -0.43893329 -0.49282165\n -0.72111951 -0.47775941 -0.02003783  0.49339468 -0.42933038 -0.67046876\n -0.58944128  1.22981831 -0.0762861  -0.66245752  0.12694715  0.31755284\n -0.1235457   0.03941733  0.40978445 -0.88958034 -0.31090144 -0.82274122\n -0.84888072 -0.65242707 -0.15104662 -0.48481671  0.54422115 -0.43893329\n  1.03782032 -0.77093918 -0.09835291  0.36596909  1.41005819  0.25188198\n  0.27206788  0.74340417 -0.51001623 -0.4654185  -0.51001623 -0.32426051\n  0.35692135 -0.45237497  0.5022935  -0.92187056  1.07743354 -0.50948626\n  0.26297385  0.3625049   0.16855567  1.3547425   0.41270674  0.08480602\n -0.64760264  0.24305322 -0.47728465 -0.77761331  0.62126097  1.24477587\n -0.82016106 -0.56836152  0.28568204  1.35924164 -0.49746381 -0.50711748\n  0.45650874  0.25056205  0.53142419 -0.75820491  0.57675207 -0.6017005\n  0.79577648 -0.7411918  -0.18978491 -0.69311638 -0.66464931 -0.33584751\n -0.54067547  0.11415076  1.07743354  1.12606582  0.86405901 -0.63487973\n  0.52357922 -0.07436467 -0.32426051 -0.2015825   0.31208225 -0.05117997\n -0.57668742 -0.3455574   0.49900816  0.43311907  0.02370549 -0.1076811\n  0.90111383 -0.53560158 -0.03231875 -0.65076312  0.27829405  0.63295919\n -0.31747888  0.53148194  0.36962762  0.02742196 -0.85036566  1.70431163\n -0.02315186  0.57470754  0.49352745  1.2964581   0.42172631 -0.79196752\n -0.85015996  1.67328799 -0.15263289  0.52334151  0.69872593 -0.61229224\n -0.09998163  0.27206788 -0.73367441  0.7262324   0.98780341 -0.1229918\n -0.00792385 -0.12625321 -0.71338012 -0.64768128 -0.78451427 -0.31682865\n -0.20323204 -0.80346462 -0.89920658  1.0723437  -0.6945531  -0.10899932\n -0.42323878 -0.89465927 -0.76908888  0.86476547  0.37997134 -0.43285921\n -0.0546106   0.38414389 -0.72537167  0.9162768  -0.84455798  0.12844327\n  0.37369121  0.63641699  0.08551363 -0.78333737 -0.6892159   0.42024184\n  0.74725467  0.1380516   0.11344181  0.31235884  0.65646753 -0.05893703\n -0.09730267 -0.39224468 -0.78713113  0.44944969 -0.66358832 -0.0667551\n  1.00921783  0.25705532  0.94542109  1.64536242  0.74945005  0.63359945\n -0.07318704 -0.25364761 -0.71745528 -0.76035432  0.60460928 -0.75689248\n -0.01197289 -0.65800597 -0.68932445  0.53158968 -0.75449548 -0.41036697\n -0.79034526 -0.43629942 -0.17589866  0.00821923 -0.72258352 -0.88283062\n -0.65749936  0.40705494 -0.13798461  1.12458102 -0.34662333  0.06116916\n -0.41847134 -0.85420084 -0.5748767  -0.86078288  0.23745198  0.36571447\n -0.53620349  0.12630033 -0.506028    0.36747665  0.74292452  0.52343833\n  0.98372546 -0.73716537  0.71672671  1.11167041 -0.68498397  1.01171013\n  0.12630033  0.8877035   0.29840133 -0.71524031 -0.75150352 -0.57764763\n  1.0791317   0.29483494  0.20404145 -0.44622643  0.73013143  0.04108032\n -0.41222495  0.33028178 -0.28501522 -0.86073597 -0.6709278  -0.61137945\n  0.56011176 -0.90319187 -0.59704751 -0.18637747  0.6336578   0.3449099\n -0.44823705 -0.8109281  -0.40023664 -0.68947738 -0.16163056  0.75296611\n -0.60197242 -0.77093918 -0.70172965  0.73828884  0.39759734  0.79092564\n -0.31492865  1.0790801 ].\nReshape your data either using array.reshape(-1, 1) if your data has a single feature or array.reshape(1, -1) if it contains a single sample.",
     "output_type": "error",
     "traceback": [
      "\u001b[1;31m---------------------------------------------------------------------------\u001b[0m",
      "\u001b[1;31mValueError\u001b[0m                                Traceback (most recent call last)",
      "\u001b[1;32m~\\AppData\\Local\\Temp/ipykernel_1792/3296748163.py\u001b[0m in \u001b[0;36m<module>\u001b[1;34m\u001b[0m\n\u001b[0;32m      1\u001b[0m \u001b[0my_pred\u001b[0m \u001b[1;33m=\u001b[0m \u001b[0mregrassor\u001b[0m\u001b[1;33m.\u001b[0m\u001b[0mpredict\u001b[0m\u001b[1;33m(\u001b[0m\u001b[0mX_sc\u001b[0m\u001b[1;33m.\u001b[0m\u001b[0mtransform\u001b[0m\u001b[1;33m(\u001b[0m\u001b[0mX_test\u001b[0m\u001b[1;33m)\u001b[0m\u001b[1;33m)\u001b[0m\u001b[1;33m\u001b[0m\u001b[1;33m\u001b[0m\u001b[0m\n\u001b[1;32m----> 2\u001b[1;33m \u001b[0my_pred\u001b[0m \u001b[1;33m=\u001b[0m \u001b[0my_sc\u001b[0m\u001b[1;33m.\u001b[0m\u001b[0minverse_transform\u001b[0m\u001b[1;33m(\u001b[0m\u001b[0my_pred\u001b[0m\u001b[1;33m)\u001b[0m\u001b[1;33m\u001b[0m\u001b[1;33m\u001b[0m\u001b[0m\n\u001b[0m",
      "\u001b[1;32mc:\\users\\pranjal\\appdata\\local\\programs\\python\\python37\\lib\\site-packages\\sklearn\\preprocessing\\_data.py\u001b[0m in \u001b[0;36minverse_transform\u001b[1;34m(self, X, copy)\u001b[0m\n\u001b[0;32m   1020\u001b[0m             \u001b[0mestimator\u001b[0m\u001b[1;33m=\u001b[0m\u001b[0mself\u001b[0m\u001b[1;33m,\u001b[0m\u001b[1;33m\u001b[0m\u001b[1;33m\u001b[0m\u001b[0m\n\u001b[0;32m   1021\u001b[0m             \u001b[0mdtype\u001b[0m\u001b[1;33m=\u001b[0m\u001b[0mFLOAT_DTYPES\u001b[0m\u001b[1;33m,\u001b[0m\u001b[1;33m\u001b[0m\u001b[1;33m\u001b[0m\u001b[0m\n\u001b[1;32m-> 1022\u001b[1;33m             \u001b[0mforce_all_finite\u001b[0m\u001b[1;33m=\u001b[0m\u001b[1;34m\"allow-nan\"\u001b[0m\u001b[1;33m,\u001b[0m\u001b[1;33m\u001b[0m\u001b[1;33m\u001b[0m\u001b[0m\n\u001b[0m\u001b[0;32m   1023\u001b[0m         )\n\u001b[0;32m   1024\u001b[0m \u001b[1;33m\u001b[0m\u001b[0m\n",
      "\u001b[1;32mc:\\users\\pranjal\\appdata\\local\\programs\\python\\python37\\lib\\site-packages\\sklearn\\utils\\validation.py\u001b[0m in \u001b[0;36mcheck_array\u001b[1;34m(array, accept_sparse, accept_large_sparse, dtype, order, copy, force_all_finite, ensure_2d, allow_nd, ensure_min_samples, ensure_min_features, estimator)\u001b[0m\n\u001b[0;32m    763\u001b[0m                     \u001b[1;34m\"Reshape your data either using array.reshape(-1, 1) if \"\u001b[0m\u001b[1;33m\u001b[0m\u001b[1;33m\u001b[0m\u001b[0m\n\u001b[0;32m    764\u001b[0m                     \u001b[1;34m\"your data has a single feature or array.reshape(1, -1) \"\u001b[0m\u001b[1;33m\u001b[0m\u001b[1;33m\u001b[0m\u001b[0m\n\u001b[1;32m--> 765\u001b[1;33m                     \u001b[1;34m\"if it contains a single sample.\"\u001b[0m\u001b[1;33m.\u001b[0m\u001b[0mformat\u001b[0m\u001b[1;33m(\u001b[0m\u001b[0marray\u001b[0m\u001b[1;33m)\u001b[0m\u001b[1;33m\u001b[0m\u001b[1;33m\u001b[0m\u001b[0m\n\u001b[0m\u001b[0;32m    766\u001b[0m                 )\n\u001b[0;32m    767\u001b[0m \u001b[1;33m\u001b[0m\u001b[0m\n",
      "\u001b[1;31mValueError\u001b[0m: Expected 2D array, got 1D array instead:\narray=[-0.45171067 -0.50435534  1.72431945 -0.93218338  0.46786258 -0.58370757\n -0.67294184  0.33140658 -0.67516065 -0.72480452 -0.78451427 -0.23034499\n -0.04016597 -0.190164   -0.23531174  0.94750128  1.55199998 -0.29930531\n -0.15363902 -0.44034215  0.50143091 -0.47117466  0.08480602  0.17605571\n -0.30006733 -0.65437632 -0.55208142  1.47903157 -0.81878993  0.51078141\n  0.2943675   0.3277672   0.05480392 -0.26129547  0.53727206  0.40635578\n -0.44334948  0.09326547  0.63865417  0.33637553 -0.54245503  1.24365157\n  0.92469053  1.04034014  0.36300911 -0.77491376 -0.66464931  0.18438243\n -0.70470084  0.3771672  -0.98780784 -0.60344028  0.44499842  0.53142833\n -0.24509023 -0.49133587 -0.89410506 -0.59608725  1.33272293  0.03765856\n -0.76802522  0.31127073  0.54317498  0.21492838 -0.63100279  0.60196945\n -0.5857349  -0.69934607  0.82506001  0.51467718 -0.43893329 -0.49282165\n -0.72111951 -0.47775941 -0.02003783  0.49339468 -0.42933038 -0.67046876\n -0.58944128  1.22981831 -0.0762861  -0.66245752  0.12694715  0.31755284\n -0.1235457   0.03941733  0.40978445 -0.88958034 -0.31090144 -0.82274122\n -0.84888072 -0.65242707 -0.15104662 -0.48481671  0.54422115 -0.43893329\n  1.03782032 -0.77093918 -0.09835291  0.36596909  1.41005819  0.25188198\n  0.27206788  0.74340417 -0.51001623 -0.4654185  -0.51001623 -0.32426051\n  0.35692135 -0.45237497  0.5022935  -0.92187056  1.07743354 -0.50948626\n  0.26297385  0.3625049   0.16855567  1.3547425   0.41270674  0.08480602\n -0.64760264  0.24305322 -0.47728465 -0.77761331  0.62126097  1.24477587\n -0.82016106 -0.56836152  0.28568204  1.35924164 -0.49746381 -0.50711748\n  0.45650874  0.25056205  0.53142419 -0.75820491  0.57675207 -0.6017005\n  0.79577648 -0.7411918  -0.18978491 -0.69311638 -0.66464931 -0.33584751\n -0.54067547  0.11415076  1.07743354  1.12606582  0.86405901 -0.63487973\n  0.52357922 -0.07436467 -0.32426051 -0.2015825   0.31208225 -0.05117997\n -0.57668742 -0.3455574   0.49900816  0.43311907  0.02370549 -0.1076811\n  0.90111383 -0.53560158 -0.03231875 -0.65076312  0.27829405  0.63295919\n -0.31747888  0.53148194  0.36962762  0.02742196 -0.85036566  1.70431163\n -0.02315186  0.57470754  0.49352745  1.2964581   0.42172631 -0.79196752\n -0.85015996  1.67328799 -0.15263289  0.52334151  0.69872593 -0.61229224\n -0.09998163  0.27206788 -0.73367441  0.7262324   0.98780341 -0.1229918\n -0.00792385 -0.12625321 -0.71338012 -0.64768128 -0.78451427 -0.31682865\n -0.20323204 -0.80346462 -0.89920658  1.0723437  -0.6945531  -0.10899932\n -0.42323878 -0.89465927 -0.76908888  0.86476547  0.37997134 -0.43285921\n -0.0546106   0.38414389 -0.72537167  0.9162768  -0.84455798  0.12844327\n  0.37369121  0.63641699  0.08551363 -0.78333737 -0.6892159   0.42024184\n  0.74725467  0.1380516   0.11344181  0.31235884  0.65646753 -0.05893703\n -0.09730267 -0.39224468 -0.78713113  0.44944969 -0.66358832 -0.0667551\n  1.00921783  0.25705532  0.94542109  1.64536242  0.74945005  0.63359945\n -0.07318704 -0.25364761 -0.71745528 -0.76035432  0.60460928 -0.75689248\n -0.01197289 -0.65800597 -0.68932445  0.53158968 -0.75449548 -0.41036697\n -0.79034526 -0.43629942 -0.17589866  0.00821923 -0.72258352 -0.88283062\n -0.65749936  0.40705494 -0.13798461  1.12458102 -0.34662333  0.06116916\n -0.41847134 -0.85420084 -0.5748767  -0.86078288  0.23745198  0.36571447\n -0.53620349  0.12630033 -0.506028    0.36747665  0.74292452  0.52343833\n  0.98372546 -0.73716537  0.71672671  1.11167041 -0.68498397  1.01171013\n  0.12630033  0.8877035   0.29840133 -0.71524031 -0.75150352 -0.57764763\n  1.0791317   0.29483494  0.20404145 -0.44622643  0.73013143  0.04108032\n -0.41222495  0.33028178 -0.28501522 -0.86073597 -0.6709278  -0.61137945\n  0.56011176 -0.90319187 -0.59704751 -0.18637747  0.6336578   0.3449099\n -0.44823705 -0.8109281  -0.40023664 -0.68947738 -0.16163056  0.75296611\n -0.60197242 -0.77093918 -0.70172965  0.73828884  0.39759734  0.79092564\n -0.31492865  1.0790801 ].\nReshape your data either using array.reshape(-1, 1) if your data has a single feature or array.reshape(1, -1) if it contains a single sample."
     ]
    }
   ],
   "source": [
    "y_pred = regrassor.predict(X_sc.transform(X_test))\n",
    "y_pred = y_sc.inverse_transform(y_pred)"
   ]
  },
  {
   "cell_type": "code",
   "execution_count": 238,
   "id": "cf738f16",
   "metadata": {},
   "outputs": [
    {
     "data": {
      "text/html": [
       "<div>\n",
       "<style scoped>\n",
       "    .dataframe tbody tr th:only-of-type {\n",
       "        vertical-align: middle;\n",
       "    }\n",
       "\n",
       "    .dataframe tbody tr th {\n",
       "        vertical-align: top;\n",
       "    }\n",
       "\n",
       "    .dataframe thead th {\n",
       "        text-align: right;\n",
       "    }\n",
       "</style>\n",
       "<table border=\"1\" class=\"dataframe\">\n",
       "  <thead>\n",
       "    <tr style=\"text-align: right;\">\n",
       "      <th></th>\n",
       "      <th>Predicted value</th>\n",
       "      <th>Real Value</th>\n",
       "    </tr>\n",
       "  </thead>\n",
       "  <tbody>\n",
       "    <tr>\n",
       "      <th>0</th>\n",
       "      <td>-0.451711</td>\n",
       "      <td>6</td>\n",
       "    </tr>\n",
       "    <tr>\n",
       "      <th>1</th>\n",
       "      <td>-0.504355</td>\n",
       "      <td>5</td>\n",
       "    </tr>\n",
       "    <tr>\n",
       "      <th>2</th>\n",
       "      <td>1.724319</td>\n",
       "      <td>7</td>\n",
       "    </tr>\n",
       "    <tr>\n",
       "      <th>3</th>\n",
       "      <td>-0.932183</td>\n",
       "      <td>6</td>\n",
       "    </tr>\n",
       "    <tr>\n",
       "      <th>4</th>\n",
       "      <td>0.467863</td>\n",
       "      <td>5</td>\n",
       "    </tr>\n",
       "    <tr>\n",
       "      <th>...</th>\n",
       "      <td>...</td>\n",
       "      <td>...</td>\n",
       "    </tr>\n",
       "    <tr>\n",
       "      <th>315</th>\n",
       "      <td>0.738289</td>\n",
       "      <td>6</td>\n",
       "    </tr>\n",
       "    <tr>\n",
       "      <th>316</th>\n",
       "      <td>0.397597</td>\n",
       "      <td>4</td>\n",
       "    </tr>\n",
       "    <tr>\n",
       "      <th>317</th>\n",
       "      <td>0.790926</td>\n",
       "      <td>5</td>\n",
       "    </tr>\n",
       "    <tr>\n",
       "      <th>318</th>\n",
       "      <td>-0.314929</td>\n",
       "      <td>4</td>\n",
       "    </tr>\n",
       "    <tr>\n",
       "      <th>319</th>\n",
       "      <td>1.079080</td>\n",
       "      <td>6</td>\n",
       "    </tr>\n",
       "  </tbody>\n",
       "</table>\n",
       "<p>320 rows × 2 columns</p>\n",
       "</div>"
      ],
      "text/plain": [
       "     Predicted value  Real Value\n",
       "0          -0.451711           6\n",
       "1          -0.504355           5\n",
       "2           1.724319           7\n",
       "3          -0.932183           6\n",
       "4           0.467863           5\n",
       "..               ...         ...\n",
       "315         0.738289           6\n",
       "316         0.397597           4\n",
       "317         0.790926           5\n",
       "318        -0.314929           4\n",
       "319         1.079080           6\n",
       "\n",
       "[320 rows x 2 columns]"
      ]
     },
     "execution_count": 238,
     "metadata": {},
     "output_type": "execute_result"
    }
   ],
   "source": [
    "y_test = y_test.flatten()\n",
    "df = pd.DataFrame({'Predicted value': y_pred, 'Real Value': y_test})\n",
    "df"
   ]
  },
  {
   "cell_type": "markdown",
   "id": "d62e029a",
   "metadata": {},
   "source": [
    "# Checking the model accuracy with R2 score\n"
   ]
  },
  {
   "cell_type": "code",
   "execution_count": 237,
   "id": "d669cef1",
   "metadata": {},
   "outputs": [
    {
     "data": {
      "text/plain": [
       "-54.564221303651735"
      ]
     },
     "execution_count": 237,
     "metadata": {},
     "output_type": "execute_result"
    }
   ],
   "source": [
    "from sklearn.metrics import r2_score\n",
    "r2_score(y_test, y_pred)"
   ]
  },
  {
   "cell_type": "code",
   "execution_count": null,
   "id": "6f48cbfb",
   "metadata": {},
   "outputs": [],
   "source": []
  },
  {
   "cell_type": "code",
   "execution_count": null,
   "id": "dad6d74e",
   "metadata": {},
   "outputs": [],
   "source": []
  }
 ],
 "metadata": {
  "kernelspec": {
   "display_name": "Python 3 (ipykernel)",
   "language": "python",
   "name": "python3"
  },
  "language_info": {
   "codemirror_mode": {
    "name": "ipython",
    "version": 3
   },
   "file_extension": ".py",
   "mimetype": "text/x-python",
   "name": "python",
   "nbconvert_exporter": "python",
   "pygments_lexer": "ipython3",
   "version": "3.7.3"
  }
 },
 "nbformat": 4,
 "nbformat_minor": 5
}
