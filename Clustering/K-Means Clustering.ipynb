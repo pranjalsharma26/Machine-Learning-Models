{
 "cells": [
  {
   "cell_type": "code",
   "execution_count": 29,
   "id": "de9d533b",
   "metadata": {},
   "outputs": [],
   "source": [
    "import numpy as np\n",
    "import matplotlib.pyplot as plt\n",
    "import pandas as pd"
   ]
  },
  {
   "cell_type": "code",
   "execution_count": 30,
   "id": "ec846318",
   "metadata": {},
   "outputs": [],
   "source": [
    "dataset = pd.read_csv('total_data_na.csv')\n",
    "X = dataset.iloc[:, [1,2,3,4]].values"
   ]
  },
  {
   "cell_type": "code",
   "execution_count": 31,
   "id": "59e7d649",
   "metadata": {},
   "outputs": [
    {
     "data": {
      "text/plain": [
       "array([[ 10,   9, 134,   0],\n",
       "       [ 12,  11, 480,   0],\n",
       "       [  3,   3,  63,   0],\n",
       "       [ 15,  14, 370,   0],\n",
       "       [  6,   6, 148,   0],\n",
       "       [ 16,  16, 602,   0],\n",
       "       [ 16,  14, 316,  13],\n",
       "       [ 14,   8,  32,  24],\n",
       "       [  9,   8,  80,   3],\n",
       "       [  9,   6,  96,   2],\n",
       "       [ 13,  13, 196,   8],\n",
       "       [ 12,   4,  13,   9],\n",
       "       [  6,   6, 127,   0],\n",
       "       [  4,   4,  75,   5],\n",
       "       [ 11,  11, 368,   0],\n",
       "       [ 16,  16, 491,   0],\n",
       "       [  4,   4,  46,   3],\n",
       "       [  5,   4,  17,   8],\n",
       "       [  9,   8, 131,   2],\n",
       "       [  5,   5,  63,   0],\n",
       "       [  3,   3,  17,   3],\n",
       "       [  7,   7, 115,   1],\n",
       "       [  4,   3,  26,   4],\n",
       "       [  3,   3,  74,   0],\n",
       "       [ 12,   4,  50,  10],\n",
       "       [  9,   8,  87,   0],\n",
       "       [ 16,  16, 498,   0],\n",
       "       [ 16,  10, 141,  14],\n",
       "       [ 13,  13, 382,   0],\n",
       "       [  6,   6, 162,   0],\n",
       "       [  6,   5,  85,   0],\n",
       "       [ 12,  12, 169,   5],\n",
       "       [ 13,   3,  29,   7],\n",
       "       [ 13,  13, 260,  18],\n",
       "       [  5,   2,  60,   7],\n",
       "       [  4,   4,  57,   0],\n",
       "       [ 14,  12, 275,   0],\n",
       "       [  5,   5, 120,   0],\n",
       "       [ 15,   7,  49,  11],\n",
       "       [ 10,   8,  15,  15],\n",
       "       [ 13,  13, 548,   0],\n",
       "       [  6,   4,  36,   0],\n",
       "       [ 17,  17, 735,   0],\n",
       "       [ 13,  12, 301,   0],\n",
       "       [  1,   1,  24,   0],\n",
       "       [  9,   8, 133,   0],\n",
       "       [ 15,  13, 126,  11],\n",
       "       [ 14,  13, 228,  12],\n",
       "       [ 14,  14, 659,   0],\n",
       "       [  2,   2,  20,   0],\n",
       "       [  4,   4,  55,   0],\n",
       "       [ 14,  13, 252,   0],\n",
       "       [ 15,  13, 284,   0],\n",
       "       [  5,   4,  47,   0],\n",
       "       [  7,   7,  99,   3],\n",
       "       [ 11,  11, 120,   0],\n",
       "       [ 14,   6,  21,  15],\n",
       "       [  6,   2,  16,   2],\n",
       "       [  5,   4,  77,   3],\n",
       "       [  2,   2,  18,   1],\n",
       "       [ 11,   4,  25,  11],\n",
       "       [ 16,  15, 455,   0],\n",
       "       [ 15,  15, 304,   4],\n",
       "       [  6,   6, 153,   0],\n",
       "       [ 15,   7,  27,  14],\n",
       "       [  9,   9, 245,   0],\n",
       "       [  8,   8, 201,   0],\n",
       "       [  8,   5,  50,   6],\n",
       "       [ 12,  12, 226,   0],\n",
       "       [ 17,   7,  59,  21],\n",
       "       [ 14,   9, 102,  10],\n",
       "       [ 16,  10,  89,  11],\n",
       "       [  4,   4,  29,   0],\n",
       "       [ 14,  14, 684,   0],\n",
       "       [ 16,  16, 351,   0],\n",
       "       [ 14,  14, 286,   0],\n",
       "       [ 10,   8, 108,   0],\n",
       "       [ 15,  15, 441,   0],\n",
       "       [  7,   6,  51,   0],\n",
       "       [ 17,  13, 239,  14],\n",
       "       [ 15,  15, 555,   6],\n",
       "       [ 13,   1,  15,  16],\n",
       "       [ 16,  16, 497,   0],\n",
       "       [  9,   4,  13,   5],\n",
       "       [  6,   3,  52,   0],\n",
       "       [ 11,   4,  50,  11],\n",
       "       [ 14,  14, 411,   0],\n",
       "       [ 13,  11, 203,   0],\n",
       "       [  7,   5,  44,   0],\n",
       "       [ 16,  16, 357,  17],\n",
       "       [ 15,  15, 445,   0],\n",
       "       [ 14,  14, 512,   0],\n",
       "       [  8,   4,  52,   5],\n",
       "       [  5,   4,  23,   6],\n",
       "       [ 13,  11, 212,   1],\n",
       "       [ 14,  14, 530,   0],\n",
       "       [  7,   6,  65,   4],\n",
       "       [ 11,  10, 122,   0],\n",
       "       [ 15,  13, 260,   1],\n",
       "       [  8,   6,  65,   0],\n",
       "       [  0,   0,   0,   0],\n",
       "       [  0,   0,   0,  12],\n",
       "       [  0,   0,   0,  11],\n",
       "       [  0,   0,   0,   0],\n",
       "       [  0,   0,   0,   1],\n",
       "       [  0,   0,   0,   4],\n",
       "       [  0,   0,   0,   4],\n",
       "       [  0,   0,   0,   5],\n",
       "       [  0,   0,   0,   9],\n",
       "       [  0,   0,   0,   5],\n",
       "       [  0,   0,   0,   0],\n",
       "       [  0,   0,   0,   2],\n",
       "       [  0,   0,   0,   4],\n",
       "       [  0,   0,   0,   6],\n",
       "       [  0,   0,   0,   5],\n",
       "       [  0,   0,   0,  17],\n",
       "       [  0,   0,   0,   2],\n",
       "       [  0,   0,   0,   0],\n",
       "       [  0,   0,   0,   4],\n",
       "       [  0,   0,   0,   0],\n",
       "       [  0,   0,   0,   3],\n",
       "       [  0,   0,   0,  17],\n",
       "       [  0,   0,   0,   2],\n",
       "       [  0,   0,   0,   4],\n",
       "       [  0,   0,   0,  11],\n",
       "       [  0,   0,   0,   0],\n",
       "       [  0,   0,   0,  14],\n",
       "       [  0,   0,   0,   3],\n",
       "       [  0,   0,   0,   7],\n",
       "       [  0,   0,   0,  14],\n",
       "       [  0,   0,   0,   3],\n",
       "       [  0,   0,   0,   7],\n",
       "       [  0,   0,   0,   1],\n",
       "       [  0,   0,   0,   0],\n",
       "       [  0,   0,   0,  10],\n",
       "       [  0,   0,   0,   5],\n",
       "       [  0,   0,   0,  12],\n",
       "       [  0,   0,   0,   3],\n",
       "       [  0,   0,   0,  21],\n",
       "       [  0,   0,   0,  18],\n",
       "       [  0,   0,   0,  20],\n",
       "       [  0,   0,   0,   2],\n",
       "       [  0,   0,   0,  12]], dtype=int64)"
      ]
     },
     "execution_count": 31,
     "metadata": {},
     "output_type": "execute_result"
    }
   ],
   "source": [
    "X"
   ]
  },
  {
   "cell_type": "code",
   "execution_count": 32,
   "id": "ddbaeaf8",
   "metadata": {},
   "outputs": [
    {
     "data": {
      "image/png": "[encoded data removed]",
      "text/plain": [
       "<Figure size 432x288 with 1 Axes>"
      ]
     },
     "metadata": {
      "needs_background": "light"
     },
     "output_type": "display_data"
    }
   ],
   "source": [
    "# finding the optimal number of clusters\n",
    "from sklearn.cluster import KMeans\n",
    "wcss = []\n",
    "for i in range(1, 11):\n",
    "    kmeans = KMeans(n_clusters = i, init = 'k-means++', random_state = 42)\n",
    "    kmeans.fit(X)\n",
    "    wcss.append(kmeans.inertia_)\n",
    "plt.plot(range(1, 11), wcss)\n",
    "plt.title('The Elbow Method')\n",
    "plt.xlabel('Number of clusters')\n",
    "plt.ylabel('WCSS')\n",
    "plt.show()"
   ]
  },
  {
   "cell_type": "markdown",
   "id": "33987e15",
   "metadata": {},
   "source": [
    "Therefore, Number of Clusters = 3"
   ]
  },
  {
   "cell_type": "code",
   "execution_count": 33,
   "id": "e1899454",
   "metadata": {},
   "outputs": [],
   "source": [
    "#Training the model\n",
    "kmeans = KMeans(n_clusters = 4, init = 'k-means++', random_state = 42)\n",
    "y_kmeans = kmeans.fit_predict(X)"
   ]
  },
  {
   "cell_type": "code",
   "execution_count": 34,
   "id": "468bf26b",
   "metadata": {},
   "outputs": [
    {
     "data": {
      "image/png": "[encoded data removed]",
      "text/plain": [
       "<Figure size 432x288 with 1 Axes>"
      ]
     },
     "metadata": {
      "needs_background": "light"
     },
     "output_type": "display_data"
    }
   ],
   "source": [
    "#Visualizing cluster\n",
    "plt.scatter(X[y_kmeans == 0, 0], X[y_kmeans == 0, 1], s = 100, c = 'red', label = 'Cluster 1')\n",
    "plt.scatter(X[y_kmeans == 1, 0], X[y_kmeans == 1, 1], s = 100, c = 'blue', label = 'Cluster 2')\n",
    "plt.scatter(X[y_kmeans == 2, 0], X[y_kmeans == 2, 1], s = 100, c = 'green', label = 'Cluster 3')\n",
    "plt.scatter(kmeans.cluster_centers_[:, 0], kmeans.cluster_centers_[:, 1], s = 300, c = 'yellow', label = 'Centroids')\n",
    "\n",
    "plt.title('Clusters of customers')\n",
    "plt.xlabel('Annual Income (k$)')\n",
    "plt.ylabel('Spending Score (1-100)')\n",
    "plt.legend()\n",
    "plt.show()"
   ]
  },
  {
   "cell_type": "code",
   "execution_count": null,
   "id": "9e741589",
   "metadata": {},
   "outputs": [],
   "source": []
  }
 ],
 "metadata": {
  "kernelspec": {
   "display_name": "Python 3 (ipykernel)",
   "language": "python",
   "name": "python3"
  },
  "language_info": {
   "codemirror_mode": {
    "name": "ipython",
    "version": 3
   },
   "file_extension": ".py",
   "mimetype": "text/x-python",
   "name": "python",
   "nbconvert_exporter": "python",
   "pygments_lexer": "ipython3",
   "version": "3.7.3"
  }
 },
 "nbformat": 4,
 "nbformat_minor": 5
}
